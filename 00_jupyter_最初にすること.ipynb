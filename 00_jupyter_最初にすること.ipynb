{
  "nbformat": 4,
  "nbformat_minor": 0,
  "metadata": {
    "colab": {
      "name": "00 jupyter 最初にすること.ipynb",
      "version": "0.3.2",
      "provenance": [],
      "include_colab_link": true
    },
    "kernelspec": {
      "display_name": "Python 2",
      "language": "python",
      "name": "python2"
    }
  },
  "cells": [
    {
      "cell_type": "markdown",
      "metadata": {
        "id": "view-in-github",
        "colab_type": "text"
      },
      "source": [
        "[View in Colaboratory](https://colab.research.google.com/github/ymraintree/jupyter/blob/master/00_jupyter_%E6%9C%80%E5%88%9D%E3%81%AB%E3%81%99%E3%82%8B%E3%81%93%E3%81%A8.ipynb)"
      ]
    },
    {
      "metadata": {
        "id": "Oh92UgNt9Eti",
        "colab_type": "code",
        "colab": {}
      },
      "cell_type": "code",
      "source": [
        "# viのインストール\n",
        "#apt-get update\n",
        "#apt-get install vim"
      ],
      "execution_count": 0,
      "outputs": []
    },
    {
      "metadata": {
        "id": "BJ-t4xYw9Etm",
        "colab_type": "code",
        "colab": {}
      },
      "cell_type": "code",
      "source": [
        "# パスワードの設定\n",
        "#jupyter notebook --generate-config\n",
        "#python -c 'from notebook.auth import passwd;print(passwd())'\n",
        "\n",
        "# 表示されたハッシュ値を以下のファイルに追加\n",
        "#vi /root/.jupyter/jupyter_notebook_config.py\n",
        "\n",
        "#c.NotebookApp.password = 'sha1:7f4add7c014b:48778431706c6a6358d04ae6483cc9566f169751'"
      ],
      "execution_count": 0,
      "outputs": []
    }
  ]
}