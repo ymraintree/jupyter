{
  "nbformat": 4,
  "nbformat_minor": 0,
  "metadata": {
    "colab": {
      "name": "checkio.ipynb",
      "version": "0.3.2",
      "provenance": [],
      "include_colab_link": true
    },
    "kernelspec": {
      "name": "python3",
      "display_name": "Python 3"
    }
  },
  "cells": [
    {
      "cell_type": "markdown",
      "metadata": {
        "id": "view-in-github",
        "colab_type": "text"
      },
      "source": [
        "[View in Colaboratory](https://colab.research.google.com/github/ymraintree/jupyter/blob/master/checkio.ipynb)"
      ]
    },
    {
      "metadata": {
        "id": "6gWXSX1Z829U",
        "colab_type": "code",
        "colab": {}
      },
      "cell_type": "code",
      "source": [
        "t = (10,20,30)\n",
        "print(t[1:2])\n",
        "t += (4, 5)\n",
        "t\n",
        "t[1]"
      ],
      "execution_count": 0,
      "outputs": []
    },
    {
      "metadata": {
        "id": "CckrZvuK829b",
        "colab_type": "code",
        "colab": {}
      },
      "cell_type": "code",
      "source": [
        "l = [10,20,30,40]\n",
        "l[2:4]\n",
        "l += [50,60]\n",
        "l[4]"
      ],
      "execution_count": 0,
      "outputs": []
    },
    {
      "metadata": {
        "id": "0ZlZ7i_K829f",
        "colab_type": "code",
        "colab": {}
      },
      "cell_type": "code",
      "source": [
        "s = set([10,20,10,30])\n",
        "s = s | set([40,20,50])\n",
        "s.add(70)\n",
        "len(s)"
      ],
      "execution_count": 0,
      "outputs": []
    },
    {
      "metadata": {
        "id": "6mIE_UJN829i",
        "colab_type": "code",
        "colab": {}
      },
      "cell_type": "code",
      "source": [
        "d = {\"a\":10, \"b\":20, \"c\":30}\n",
        "d[\"b\"]\n",
        "d[\"e\"] = 40\n",
        "d"
      ],
      "execution_count": 0,
      "outputs": []
    },
    {
      "metadata": {
        "id": "t8IsokcR829m",
        "colab_type": "code",
        "colab": {}
      },
      "cell_type": "code",
      "source": [
        "hoge=\"AbCd\"\n",
        "for s in hoge:\n",
        "    if(s.isupper()):print(s)\n",
        "    "
      ],
      "execution_count": 0,
      "outputs": []
    },
    {
      "metadata": {
        "id": "OjAWzLec829p",
        "colab_type": "code",
        "colab": {}
      },
      "cell_type": "code",
      "source": [
        "def find_message(text):\n",
        "    \"\"\"Find a secret message\"\"\"\n",
        "    result = \"\"\n",
        "    for s in text:\n",
        "        if (s.isupper()): result += s\n",
        "#    w = re.match(\"A-Z*\", text)\n",
        "#    return w.group()\n",
        "    return result\n",
        "\n",
        "print(find_message(\"AbCdE\"))"
      ],
      "execution_count": 0,
      "outputs": []
    },
    {
      "metadata": {
        "id": "XSvzHgnL829t",
        "colab_type": "code",
        "colab": {}
      },
      "cell_type": "code",
      "source": [
        "import re\n",
        "def find_message(text):\n",
        "    \"\"\"Find a secret message\"\"\"\n",
        "    w = re.match(r'[A-Z*]', text)\n",
        "    return w.group()\n",
        "\n",
        "print(find_message(\"AbCdE\"))"
      ],
      "execution_count": 0,
      "outputs": []
    },
    {
      "metadata": {
        "id": "fwb076-K829v",
        "colab_type": "code",
        "colab": {}
      },
      "cell_type": "code",
      "source": [
        "s = [\"left\", \"right\", \"left\"]\n",
        "s = \", \".join(s)\n",
        "s.replace(\"left\", \"right\")"
      ],
      "execution_count": 0,
      "outputs": []
    },
    {
      "metadata": {
        "id": "d25oK6-d829y",
        "colab_type": "code",
        "colab": {}
      },
      "cell_type": "code",
      "source": [
        "s = str(12345)\n",
        "result = 1\n",
        "for i in s: \n",
        "    print(i)\n",
        "    result *= int(i)\n",
        "result"
      ],
      "execution_count": 0,
      "outputs": []
    },
    {
      "metadata": {
        "id": "khSYoWkC8292",
        "colab_type": "code",
        "colab": {}
      },
      "cell_type": "code",
      "source": [
        "\"!\".isalpha()"
      ],
      "execution_count": 0,
      "outputs": []
    },
    {
      "metadata": {
        "id": "uOAG3sKe8295",
        "colab_type": "code",
        "colab": {}
      },
      "cell_type": "code",
      "source": [
        "m = {\"a\":1, \"b\":2, \"c\":3}\n",
        "#for k, v in m.items: print(k + str(v))\n",
        "for k, v in m.items(): s = k\n",
        "s"
      ],
      "execution_count": 0,
      "outputs": []
    },
    {
      "metadata": {
        "id": "tTpIQhX-829-",
        "colab_type": "code",
        "colab": {}
      },
      "cell_type": "code",
      "source": [
        "def checkio(data):\n",
        "    return filter(lambda x: 1 < data.count(x), data)\n",
        "\n",
        "#Some hints\n",
        "#You can use list.count(element) method for counting.\n",
        "#Create new list with non-unique elements\n",
        "#Loop over original list\n",
        "\n",
        "\n",
        "if __name__ == \"__main__\":\n",
        "    #These \"asserts\" using only for self-checking and not necessary for auto-testing\n",
        "    assert list(checkio([1, 2, 3, 1, 3])) == [1, 3, 1, 3], \"1st example\"\n",
        "    assert list(checkio([1, 2, 3, 4, 5])) == [], \"2nd example\"\n",
        "    assert list(checkio([5, 5, 5, 5, 5])) == [5, 5, 5, 5, 5], \"3rd example\"\n",
        "    assert list(checkio([10, 9, 10, 10, 9, 8])) == [10, 9, 10, 10, 9], \"4th example\"\n"
      ],
      "execution_count": 0,
      "outputs": []
    },
    {
      "metadata": {
        "id": "FMIw8jTm82-C",
        "colab_type": "code",
        "colab": {}
      },
      "cell_type": "code",
      "source": [
        "a = bin(5)\n",
        "a\n",
        "str(a)\n",
        "r = a.count(\"1\")\n",
        "r"
      ],
      "execution_count": 0,
      "outputs": []
    },
    {
      "metadata": {
        "id": "x4maUkAs82-G",
        "colab_type": "code",
        "colab": {}
      },
      "cell_type": "code",
      "source": [
        "d = [1,2,3,44,5]\n",
        "d[0]"
      ],
      "execution_count": 0,
      "outputs": []
    },
    {
      "metadata": {
        "id": "oshy_OOH82-K",
        "colab_type": "code",
        "colab": {}
      },
      "cell_type": "code",
      "source": [
        "import datetime\n",
        "\n",
        "d = (datetime.datetime(2017, 10, 7) - datetime.datetime(2017,10,2)).total_seconds()\n",
        "print(d)\n"
      ],
      "execution_count": 0,
      "outputs": []
    },
    {
      "metadata": {
        "id": "0L5caf2V82-N",
        "colab_type": "code",
        "colab": {}
      },
      "cell_type": "code",
      "source": [
        "def checkio(expression):\n",
        "    b= {\"}\":\"{\", \")\":\"(\", \"]\":\"[\"}\n",
        "    stack = []\n",
        "    for s in expression:\n",
        "        if s in b.values(): stack.append(s)\n",
        "        if s in b:\n",
        "            if len(stack) == 0: return False\n",
        "            r = stack.pop()\n",
        "            if b[s] != r: return False\n",
        "    if len(stack) == 0: return True\n",
        "    else: return False\n",
        "\n",
        "#These \"asserts\" using only for self-checking and not necessary for auto-testing\n",
        "if __name__ == '__main__':\n",
        "    assert checkio(\"((5+3)*2+1)\") == True, \"Simple\"\n",
        "    assert checkio(\"{[(3+1)+2]+}\") == True, \"Different types\"\n",
        "    assert checkio(\"(3+{1-1)}\") == False, \") is alone inside {}\"\n",
        "    assert checkio(\"[1+1]+(2*2)-{3/3}\") == True, \"Different operators\"\n",
        "    assert checkio(\"(({[(((1)-2)+3)-3]/3}-3)\") == False, \"One is redundant\"\n",
        "    assert checkio(\"2+3\") == True, \"No brackets, no problem\"\n"
      ],
      "execution_count": 0,
      "outputs": []
    },
    {
      "metadata": {
        "id": "YRbNxXWx82-R",
        "colab_type": "code",
        "colab": {}
      },
      "cell_type": "code",
      "source": [
        "import re\n",
        "\n",
        "VOWELS = \"aeiouy\"\n",
        "\n",
        "def translate(phrase):\n",
        "    print(phrase)\n",
        "    for c in VOWELS:\n",
        "        pat = re.compile(r'([^{0}]){0}([^{0}]|$)'.format(c))\n",
        "        phrase = re.sub(pat, '\\\\1'+''+'\\\\2', phrase)\n",
        "        print(phrase)\n",
        "    return phrase\n",
        "\n",
        "translate(\"ahaieeelalaooaoa\")\n",
        "\n"
      ],
      "execution_count": 0,
      "outputs": []
    },
    {
      "metadata": {
        "id": "EcIL6aV-82-U",
        "colab_type": "code",
        "colab": {}
      },
      "cell_type": "code",
      "source": [
        "s = None\n",
        "print(len(s))\n"
      ],
      "execution_count": 0,
      "outputs": []
    },
    {
      "metadata": {
        "id": "5oCpEF5Z82-Y",
        "colab_type": "code",
        "colab": {}
      },
      "cell_type": "code",
      "source": [
        "a = [\"a\",\"b\",\"c\",\"d\",\"e\"]\n",
        "b = [\"a\", \"c\"]\n",
        "print(a[0:len(a):2])\n",
        "b in a[0:len(a):2]"
      ],
      "execution_count": 0,
      "outputs": []
    },
    {
      "metadata": {
        "id": "uTh84tEb82-b",
        "colab_type": "code",
        "colab": {}
      },
      "cell_type": "code",
      "source": [
        "import re\n",
        "\n",
        "s = \"Abc,\"\n",
        "r = re.search('[a-z]*', s.lower())\n",
        "print(r.group(0))"
      ],
      "execution_count": 0,
      "outputs": []
    },
    {
      "metadata": {
        "id": "NzYhhdo682-e",
        "colab_type": "code",
        "colab": {}
      },
      "cell_type": "code",
      "source": [
        "def checkio(number):\n",
        "    resultList = []\n",
        "    div(number, 0, resultList)\n",
        "    print(resultList)\n",
        "    if len(resultList) == 0: return 0\n",
        "    wk = []\n",
        "    for i in str(resultList[0]):\n",
        "        wk.append(i)\n",
        "    return int(''.join(sorted(wk)))\n",
        "    \n",
        "    return min(resultList)\n",
        "    \n",
        "def div(number, result, resultList):\n",
        "    print(\"div {} {} {}\".format(number, result, resultList))\n",
        "    for i in range(9, 1, -1):\n",
        "        print(\"i {}\".format(i))\n",
        "        if number % i == 0:\n",
        "            if 10 <= number / i:\n",
        "                result = result * 10 + i\n",
        "                return div(number / i, result, resultList)\n",
        "            else:\n",
        "                result = result * 100 + min(i, number / i) * 10 + max(i, number / i)\n",
        "#                return result\n",
        "                resultList.append(int(result))\n",
        "                print(\"return {} {} \".format(number, result))\n",
        "                return i\n",
        "        \n",
        "if __name__ == '__main__':\n",
        "    #These \"asserts\" using only for self-checking and not necessary for auto-testing\n",
        "    assert checkio(20) == 45, \"1st example\"\n",
        "    assert checkio(21) == 37, \"2nd example\"\n",
        "    assert checkio(17) == 0, \"3rd example\"\n",
        "    assert checkio(33) == 0, \"4th example\"\n",
        "    assert checkio(3125) == 55555, \"5th example\"\n",
        "    assert checkio(9973) == 0, \"6th example\"\n"
      ],
      "execution_count": 0,
      "outputs": []
    },
    {
      "metadata": {
        "id": "4jfTG_kA82-h",
        "colab_type": "code",
        "colab": {}
      },
      "cell_type": "code",
      "source": [
        "int(255000.0)"
      ],
      "execution_count": 0,
      "outputs": []
    },
    {
      "metadata": {
        "id": "-jTyXiwE82-l",
        "colab_type": "code",
        "colab": {}
      },
      "cell_type": "code",
      "source": [
        "import datetime\n",
        "\n",
        "d = datetime.date(2018, 1, 1)\n",
        "while(d.year == 2018):\n",
        "    print(d)\n",
        "    d += datetime.timedelta(days=1)\n"
      ],
      "execution_count": 0,
      "outputs": []
    },
    {
      "metadata": {
        "id": "Tet_hmMC82-o",
        "colab_type": "code",
        "colab": {}
      },
      "cell_type": "code",
      "source": [
        "l = [1,2,3,5,5]\n",
        "\" \".join(l)"
      ],
      "execution_count": 0,
      "outputs": []
    },
    {
      "metadata": {
        "id": "Z56I2W9Y82-s",
        "colab_type": "code",
        "colab": {}
      },
      "cell_type": "code",
      "source": [
        "v = \"a\"\n",
        "v = 2\n",
        "v"
      ],
      "execution_count": 0,
      "outputs": []
    },
    {
      "metadata": {
        "id": "0Ec9fcx482-v",
        "colab_type": "code",
        "colab": {}
      },
      "cell_type": "code",
      "source": [
        ""
      ],
      "execution_count": 0,
      "outputs": []
    }
  ]
}